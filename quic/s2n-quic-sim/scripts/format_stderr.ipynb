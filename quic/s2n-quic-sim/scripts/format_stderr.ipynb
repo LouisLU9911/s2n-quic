{
 "cells": [
  {
   "cell_type": "code",
   "execution_count": 1,
   "id": "2b52abe9-e0fe-4eb7-ab2c-d3b9577b6778",
   "metadata": {},
   "outputs": [],
   "source": [
    "import pandas as pd"
   ]
  },
  {
   "cell_type": "code",
   "execution_count": 2,
   "id": "e1d30c09-c47b-4a92-90df-08c94b87ab4b",
   "metadata": {},
   "outputs": [],
   "source": [
    "reports_dir_tmpl = \"reports_seed_{}\"\n",
    "report_dir_tmpl = \"delay_{}_drop_{}\""
   ]
  },
  {
   "cell_type": "code",
   "execution_count": 3,
   "id": "45b9c8f4-e11d-4175-b188-36d2882e0908",
   "metadata": {},
   "outputs": [],
   "source": [
    "import os\n",
    "from pathlib import Path"
   ]
  },
  {
   "cell_type": "code",
   "execution_count": 4,
   "id": "9d89836a-52b2-49b8-9795-f301bca7fc01",
   "metadata": {},
   "outputs": [],
   "source": [
    "cwd = os.getcwd()"
   ]
  },
  {
   "cell_type": "code",
   "execution_count": 9,
   "id": "21fce139-508c-405c-a0ec-0680cc0adbdb",
   "metadata": {},
   "outputs": [
    {
     "data": {
      "text/plain": [
       "PosixPath('/Users/luzhaoyan/workspace/github/s2n-quic/quic/s2n-quic-sim/reports_seed_42')"
      ]
     },
     "execution_count": 9,
     "metadata": {},
     "output_type": "execute_result"
    }
   ],
   "source": [
    "# Define the path to the reports directory\n",
    "reports_dir = Path(cwd).parent / reports_dir_tmpl.format(42)\n",
    "reports_dir"
   ]
  },
  {
   "cell_type": "code",
   "execution_count": 10,
   "id": "f9013b16-b8ca-424a-a87f-b3357285020c",
   "metadata": {},
   "outputs": [],
   "source": [
    "# Define lists for delay and drop_rate values\n",
    "delays = [\"5ms\", \"50ms\", \"100ms\", \"200ms\", \"500ms\"]\n",
    "drop_rates = [0.01, 0.05, 0.1, 0.2, 0.3]"
   ]
  },
  {
   "cell_type": "code",
   "execution_count": 11,
   "id": "b49e536d-0004-4179-8371-ecacbc76ed79",
   "metadata": {},
   "outputs": [
    {
     "data": {
      "text/plain": [
       "PosixPath('/Users/luzhaoyan/workspace/github/s2n-quic/quic/s2n-quic-sim/reports_seed_42/delay_200ms_drop_0.05')"
      ]
     },
     "execution_count": 11,
     "metadata": {},
     "output_type": "execute_result"
    }
   ],
   "source": [
    "report_dir = reports_dir / report_dir_tmpl.format(delays[3], drop_rates[1])\n",
    "report_dir"
   ]
  },
  {
   "cell_type": "code",
   "execution_count": 12,
   "id": "47221b95-ec0f-4112-a661-5f475b56dd15",
   "metadata": {},
   "outputs": [
    {
     "name": "stdout",
     "output_type": "stream",
     "text": [
      "/Users/luzhaoyan/workspace/github/s2n-quic/quic/s2n-quic-sim/reports_seed_42/delay_200ms_drop_0.05\n",
      "/Users/luzhaoyan/workspace/github/s2n-quic/quic/s2n-quic-sim/reports_seed_42/delay_200ms_drop_0.05/stderr.log\n",
      "Filtered /Users/luzhaoyan/workspace/github/s2n-quic/quic/s2n-quic-sim/reports_seed_42/delay_200ms_drop_0.05/stderr.log and saved to /Users/luzhaoyan/workspace/github/s2n-quic/quic/s2n-quic-sim/reports_seed_42/delay_200ms_drop_0.05/filtered_stderr.log\n"
     ]
    }
   ],
   "source": [
    "if report_dir.is_dir():\n",
    "    print(report_dir)\n",
    "    stderr_path = report_dir / \"stderr.log\"\n",
    "    filtered_stderr_path = report_dir / \"filtered_stderr.log\"\n",
    "\n",
    "    if stderr_path.exists():\n",
    "        print(stderr_path)\n",
    "        # Read the stderr.log file\n",
    "        with open(stderr_path, \"r\", encoding=\"utf-8\") as file:\n",
    "            lines = file.read().split(\"\\n\")\n",
    "\n",
    "        # Keep only lines that start with \"event:\"\n",
    "        filtered_lines = [line for line in lines if line.startswith(\"event:\")]\n",
    "\n",
    "        # Write the filtered lines to a new file\n",
    "        with open(filtered_stderr_path, \"w\", encoding=\"utf-8\") as file:\n",
    "            file.writelines(filtered_lines)\n",
    "\n",
    "        print(f\"Filtered {stderr_path} and saved to {filtered_stderr_path}\")"
   ]
  },
  {
   "cell_type": "code",
   "execution_count": 13,
   "id": "03bf7154-b75a-4905-a395-86c20c3cf761",
   "metadata": {},
   "outputs": [
    {
     "data": {
      "text/plain": [
       "'event:on_packet_sent,time_sent:0:00:00.200000,under_utilized:true,bytes_in_flight:191,congestion_window:12000'"
      ]
     },
     "execution_count": 13,
     "metadata": {},
     "output_type": "execute_result"
    }
   ],
   "source": [
    "filtered_lines[0]"
   ]
  },
  {
   "cell_type": "code",
   "execution_count": 14,
   "id": "a9c99e7a-89c2-4b23-84a4-6617038450b3",
   "metadata": {},
   "outputs": [],
   "source": [
    "def get_all_lines_from_report_dir(report_dir) -> list:\n",
    "    filtered_lines = []\n",
    "    if report_dir.is_dir():\n",
    "        stderr_path = report_dir / \"stderr.log\"\n",
    "        print(f\"Reading {stderr_path}...\")\n",
    "        if stderr_path.exists():\n",
    "            # Read the stderr.log file\n",
    "            with open(stderr_path, \"r\", encoding=\"utf-8\") as file:\n",
    "                lines = file.read().split(\"\\n\")\n",
    "            # Keep only lines that start with \"event:\"\n",
    "            filtered_lines = [line for line in lines if line.startswith(\"event:\")]\n",
    "    return filtered_lines"
   ]
  },
  {
   "cell_type": "code",
   "execution_count": 15,
   "id": "f0a14004-35de-48a7-9505-ea9dc6f539b0",
   "metadata": {},
   "outputs": [
    {
     "name": "stdout",
     "output_type": "stream",
     "text": [
      "Reading /Users/luzhaoyan/workspace/github/s2n-quic/quic/s2n-quic-sim/reports_seed_42/delay_200ms_drop_0.05/stderr.log...\n"
     ]
    }
   ],
   "source": [
    "filtered_lines = get_all_lines_from_report_dir(report_dir)"
   ]
  },
  {
   "cell_type": "code",
   "execution_count": 16,
   "id": "a3cd317f-6b94-4a2d-883d-5e43fa9a3e81",
   "metadata": {},
   "outputs": [
    {
     "data": {
      "text/plain": [
       "495867"
      ]
     },
     "execution_count": 16,
     "metadata": {},
     "output_type": "execute_result"
    }
   ],
   "source": [
    "len(filtered_lines)"
   ]
  },
  {
   "cell_type": "code",
   "execution_count": 17,
   "id": "4d898ece-fd2d-4ccc-8091-a393777e40a0",
   "metadata": {},
   "outputs": [],
   "source": [
    "def filter_out(lines: list, event: str) -> list:\n",
    "    filtered_lines = [line for line in lines if event not in line]\n",
    "    return filtered_lines"
   ]
  },
  {
   "cell_type": "code",
   "execution_count": 18,
   "id": "296dc1f6-82f9-427a-a319-e4cacadd0c23",
   "metadata": {},
   "outputs": [],
   "source": [
    "filtered_lines = filter_out(filtered_lines, \"on_rtt_update\")"
   ]
  },
  {
   "cell_type": "code",
   "execution_count": 19,
   "id": "8d30c049-73aa-4124-8812-d7f713794822",
   "metadata": {},
   "outputs": [
    {
     "data": {
      "text/plain": [
       "336358"
      ]
     },
     "execution_count": 19,
     "metadata": {},
     "output_type": "execute_result"
    }
   ],
   "source": [
    "len(filtered_lines)"
   ]
  },
  {
   "cell_type": "code",
   "execution_count": 20,
   "id": "94f750f4-1a78-4846-be4d-41c584149a1a",
   "metadata": {},
   "outputs": [
    {
     "data": {
      "text/plain": [
       "'event:on_packet_sent,time_sent:0:00:00.200000,under_utilized:true,bytes_in_flight:191,congestion_window:12000'"
      ]
     },
     "execution_count": 20,
     "metadata": {},
     "output_type": "execute_result"
    }
   ],
   "source": [
    "on_packet_sent_line = \"\"\n",
    "for line in filtered_lines:\n",
    "    if \"on_packet_sent\" in line:\n",
    "        on_packet_sent_line = line\n",
    "        break\n",
    "on_packet_sent_line"
   ]
  },
  {
   "cell_type": "code",
   "execution_count": 21,
   "id": "50d3c444-dc8a-4c57-9e7f-0ce201247bf5",
   "metadata": {},
   "outputs": [
    {
     "data": {
      "text/plain": [
       "'event:on_packet_lost,timestamp:0:00:02.924665,under_utilized:true,lost_bytes:53,persistent_congestion:false,new_loss_burst:true,bytes_in_flight:1601,congestion_window:9828'"
      ]
     },
     "execution_count": 21,
     "metadata": {},
     "output_type": "execute_result"
    }
   ],
   "source": [
    "on_packet_lost_line = \"\"\n",
    "for line in filtered_lines:\n",
    "    if \"on_packet_lost\" in line:\n",
    "        on_packet_lost_line = line\n",
    "        break\n",
    "on_packet_lost_line"
   ]
  },
  {
   "cell_type": "code",
   "execution_count": 22,
   "id": "87d86d07-281a-479e-bf3b-0e80034dcee5",
   "metadata": {},
   "outputs": [
    {
     "data": {
      "text/plain": [
       "'event:on_ack,newest_acked_time_sent:0:00:00.200000,under_utilized:true,bytes_acknowledged:191,ack_receive_time:0:00:00.600000,bytes_in_flight:1009,congestion_window:12000'"
      ]
     },
     "execution_count": 22,
     "metadata": {},
     "output_type": "execute_result"
    }
   ],
   "source": [
    "on_ack_line = \"\"\n",
    "for line in filtered_lines:\n",
    "    if \"on_ack\" in line:\n",
    "        on_ack_line = line\n",
    "        break\n",
    "on_ack_line"
   ]
  },
  {
   "cell_type": "code",
   "execution_count": 23,
   "id": "405db494-000e-4b02-a216-86bdc387292f",
   "metadata": {},
   "outputs": [],
   "source": [
    "columns = [\n",
    "    \"event\",\n",
    "    \"timestamp\",\n",
    "    \"lost_bytes\",\n",
    "    \"bytes_acknowledged\",\n",
    "    \"bytes_in_filght\",\n",
    "    \"congestion_window\",\n",
    "]"
   ]
  },
  {
   "cell_type": "code",
   "execution_count": 24,
   "id": "2ad2e890-2f66-4617-bab5-f44014de919a",
   "metadata": {},
   "outputs": [],
   "source": [
    "def format_line(line):\n",
    "    if \"on_packet_sent\" in line:\n",
    "        # event:on_packet_sent,time_sent:0:00:00.200000,under_utilized:true,bytes_in_flight:191,congestion_window:12000\n",
    "        cols = line.split(\",\")\n",
    "        record = {\n",
    "            columns[0]: cols[0].split(\":\")[1],\n",
    "            columns[1]: cols[1].split(\":\", 1)[1],  # time_sent\n",
    "            columns[2]: 0,\n",
    "            columns[3]: 0,\n",
    "            columns[4]: cols[3].split(\":\")[1],\n",
    "            columns[5]: cols[4].split(\":\")[1],\n",
    "        }\n",
    "    elif \"on_packet_lost\" in line:\n",
    "        # event:on_packet_lost,timestamp:0:00:02.924665,under_utilized:true,lost_bytes:53,persistent_congestion:false,new_loss_burst:true,bytes_in_flight:1601,congestion_window:9828\n",
    "        cols = line.split(\",\")\n",
    "        record = {\n",
    "            columns[0]: cols[0].split(\":\")[1],\n",
    "            columns[1]: cols[1].split(\":\", 1)[1],  # timestamp\n",
    "            columns[2]: cols[3].split(\":\")[1],  # lost_bytes\n",
    "            columns[3]: 0,\n",
    "            columns[4]: cols[6].split(\":\")[1],\n",
    "            columns[5]: cols[7].split(\":\")[1],\n",
    "        }\n",
    "    elif \"on_ack\" in line:\n",
    "        # event:on_ack,newest_acked_time_sent:0:00:00.200000,under_utilized:true,bytes_acknowledged:191,ack_receive_time:0:00:00.600000,bytes_in_flight:1009,congestion_window:12000\n",
    "        cols = line.split(\",\")\n",
    "        record = {\n",
    "            columns[0]: cols[0].split(\":\")[1],\n",
    "            columns[1]: cols[4].split(\":\", 1)[1],  # ack_receive_time\n",
    "            columns[2]: 0,\n",
    "            columns[3]: cols[3].split(\":\")[1],  # bytes_acknowledged\n",
    "            columns[4]: cols[5].split(\":\")[1],\n",
    "            columns[5]: cols[6].split(\":\")[1],\n",
    "        }\n",
    "    else:\n",
    "        raise Exception(f\"Unsupported line: {line}\")\n",
    "    return record"
   ]
  },
  {
   "cell_type": "code",
   "execution_count": 30,
   "id": "15aafa59-cdc2-4c68-b428-cfaa669e7ba2",
   "metadata": {},
   "outputs": [],
   "source": [
    "records = list(map(format_line, filtered_lines))"
   ]
  },
  {
   "cell_type": "code",
   "execution_count": 31,
   "id": "72711cbb-f39f-47f0-a07b-a4c191c3b010",
   "metadata": {},
   "outputs": [
    {
     "data": {
      "text/plain": [
       "{'event': 'on_packet_sent',\n",
       " 'timestamp': '0:00:00.600000',\n",
       " 'lost_bytes': 0,\n",
       " 'bytes_acknowledged': 0,\n",
       " 'bytes_in_filght': '1472',\n",
       " 'congestion_window': '12000'}"
      ]
     },
     "execution_count": 31,
     "metadata": {},
     "output_type": "execute_result"
    }
   ],
   "source": [
    "records[4]"
   ]
  },
  {
   "cell_type": "code",
   "execution_count": 32,
   "id": "793161e3-36a3-495f-a7c7-af3f6cc80973",
   "metadata": {},
   "outputs": [],
   "source": [
    "df = pd.DataFrame.from_records(records)"
   ]
  },
  {
   "cell_type": "code",
   "execution_count": 33,
   "id": "9e139567-27d5-4668-9b4a-aa5bcf849490",
   "metadata": {},
   "outputs": [
    {
     "data": {
      "text/html": [
       "<div>\n",
       "<style scoped>\n",
       "    .dataframe tbody tr th:only-of-type {\n",
       "        vertical-align: middle;\n",
       "    }\n",
       "\n",
       "    .dataframe tbody tr th {\n",
       "        vertical-align: top;\n",
       "    }\n",
       "\n",
       "    .dataframe thead th {\n",
       "        text-align: right;\n",
       "    }\n",
       "</style>\n",
       "<table border=\"1\" class=\"dataframe\">\n",
       "  <thead>\n",
       "    <tr style=\"text-align: right;\">\n",
       "      <th></th>\n",
       "      <th>event</th>\n",
       "      <th>timestamp</th>\n",
       "      <th>lost_bytes</th>\n",
       "      <th>bytes_acknowledged</th>\n",
       "      <th>bytes_in_filght</th>\n",
       "      <th>congestion_window</th>\n",
       "    </tr>\n",
       "  </thead>\n",
       "  <tbody>\n",
       "    <tr>\n",
       "      <th>0</th>\n",
       "      <td>on_packet_sent</td>\n",
       "      <td>0:00:00.200000</td>\n",
       "      <td>0</td>\n",
       "      <td>0</td>\n",
       "      <td>191</td>\n",
       "      <td>12000</td>\n",
       "    </tr>\n",
       "    <tr>\n",
       "      <th>1</th>\n",
       "      <td>on_packet_sent</td>\n",
       "      <td>0:00:00.200000</td>\n",
       "      <td>0</td>\n",
       "      <td>0</td>\n",
       "      <td>1200</td>\n",
       "      <td>12000</td>\n",
       "    </tr>\n",
       "    <tr>\n",
       "      <th>2</th>\n",
       "      <td>on_ack</td>\n",
       "      <td>0:00:00.600000</td>\n",
       "      <td>0</td>\n",
       "      <td>191</td>\n",
       "      <td>1009</td>\n",
       "      <td>12000</td>\n",
       "    </tr>\n",
       "    <tr>\n",
       "      <th>3</th>\n",
       "      <td>on_ack</td>\n",
       "      <td>0:00:00.600000</td>\n",
       "      <td>0</td>\n",
       "      <td>1009</td>\n",
       "      <td>0</td>\n",
       "      <td>12000</td>\n",
       "    </tr>\n",
       "    <tr>\n",
       "      <th>4</th>\n",
       "      <td>on_packet_sent</td>\n",
       "      <td>0:00:00.600000</td>\n",
       "      <td>0</td>\n",
       "      <td>0</td>\n",
       "      <td>1472</td>\n",
       "      <td>12000</td>\n",
       "    </tr>\n",
       "    <tr>\n",
       "      <th>...</th>\n",
       "      <td>...</td>\n",
       "      <td>...</td>\n",
       "      <td>...</td>\n",
       "      <td>...</td>\n",
       "      <td>...</td>\n",
       "      <td>...</td>\n",
       "    </tr>\n",
       "    <tr>\n",
       "      <th>336353</th>\n",
       "      <td>on_ack</td>\n",
       "      <td>7:47:19.944427</td>\n",
       "      <td>0</td>\n",
       "      <td>53</td>\n",
       "      <td>106</td>\n",
       "      <td>10066</td>\n",
       "    </tr>\n",
       "    <tr>\n",
       "      <th>336354</th>\n",
       "      <td>on_ack</td>\n",
       "      <td>7:47:20.147135</td>\n",
       "      <td>0</td>\n",
       "      <td>53</td>\n",
       "      <td>53</td>\n",
       "      <td>10066</td>\n",
       "    </tr>\n",
       "    <tr>\n",
       "      <th>336355</th>\n",
       "      <td>on_packet_sent</td>\n",
       "      <td>7:47:20.295131</td>\n",
       "      <td>0</td>\n",
       "      <td>0</td>\n",
       "      <td>106</td>\n",
       "      <td>10066</td>\n",
       "    </tr>\n",
       "    <tr>\n",
       "      <th>336356</th>\n",
       "      <td>on_ack</td>\n",
       "      <td>7:47:20.354443</td>\n",
       "      <td>0</td>\n",
       "      <td>53</td>\n",
       "      <td>53</td>\n",
       "      <td>10066</td>\n",
       "    </tr>\n",
       "    <tr>\n",
       "      <th>336357</th>\n",
       "      <td>on_ack</td>\n",
       "      <td>7:47:20.695131</td>\n",
       "      <td>0</td>\n",
       "      <td>53</td>\n",
       "      <td>0</td>\n",
       "      <td>10066</td>\n",
       "    </tr>\n",
       "  </tbody>\n",
       "</table>\n",
       "<p>336358 rows × 6 columns</p>\n",
       "</div>"
      ],
      "text/plain": [
       "                 event       timestamp lost_bytes bytes_acknowledged  \\\n",
       "0       on_packet_sent  0:00:00.200000          0                  0   \n",
       "1       on_packet_sent  0:00:00.200000          0                  0   \n",
       "2               on_ack  0:00:00.600000          0                191   \n",
       "3               on_ack  0:00:00.600000          0               1009   \n",
       "4       on_packet_sent  0:00:00.600000          0                  0   \n",
       "...                ...             ...        ...                ...   \n",
       "336353          on_ack  7:47:19.944427          0                 53   \n",
       "336354          on_ack  7:47:20.147135          0                 53   \n",
       "336355  on_packet_sent  7:47:20.295131          0                  0   \n",
       "336356          on_ack  7:47:20.354443          0                 53   \n",
       "336357          on_ack  7:47:20.695131          0                 53   \n",
       "\n",
       "       bytes_in_filght congestion_window  \n",
       "0                  191             12000  \n",
       "1                 1200             12000  \n",
       "2                 1009             12000  \n",
       "3                    0             12000  \n",
       "4                 1472             12000  \n",
       "...                ...               ...  \n",
       "336353             106             10066  \n",
       "336354              53             10066  \n",
       "336355             106             10066  \n",
       "336356              53             10066  \n",
       "336357               0             10066  \n",
       "\n",
       "[336358 rows x 6 columns]"
      ]
     },
     "execution_count": 33,
     "metadata": {},
     "output_type": "execute_result"
    }
   ],
   "source": [
    "df"
   ]
  },
  {
   "cell_type": "code",
   "execution_count": 40,
   "id": "82f9f866-8416-4777-9c67-070a87cc840f",
   "metadata": {},
   "outputs": [],
   "source": [
    "def ts2ms(timestamp: str) -> int:\n",
    "    h, m, s = timestamp.split(\":\")\n",
    "    m = int(m) + int(h) * 60\n",
    "    ms = round(float(s) * 1000) + m * 60 * 1000\n",
    "    return ms"
   ]
  },
  {
   "cell_type": "code",
   "execution_count": 42,
   "id": "0bb79ceb-76ab-481c-a10b-ac41c121549b",
   "metadata": {},
   "outputs": [],
   "source": [
    "df[\"timestamp\"] = df[\"timestamp\"].apply(ts2ms)"
   ]
  },
  {
   "cell_type": "code",
   "execution_count": 43,
   "id": "4846fa57-10cf-4487-a4de-d1acce9ff8a4",
   "metadata": {},
   "outputs": [
    {
     "data": {
      "text/plain": [
       "array(['12000', '13360', '14040', '9828', '10066'], dtype=object)"
      ]
     },
     "execution_count": 43,
     "metadata": {},
     "output_type": "execute_result"
    }
   ],
   "source": [
    "df[\"congestion_window\"].unique()"
   ]
  },
  {
   "cell_type": "code",
   "execution_count": 44,
   "id": "116a7871-01be-427f-a7f5-fafcb730e9f7",
   "metadata": {},
   "outputs": [
    {
     "data": {
      "text/html": [
       "<div>\n",
       "<style scoped>\n",
       "    .dataframe tbody tr th:only-of-type {\n",
       "        vertical-align: middle;\n",
       "    }\n",
       "\n",
       "    .dataframe tbody tr th {\n",
       "        vertical-align: top;\n",
       "    }\n",
       "\n",
       "    .dataframe thead th {\n",
       "        text-align: right;\n",
       "    }\n",
       "</style>\n",
       "<table border=\"1\" class=\"dataframe\">\n",
       "  <thead>\n",
       "    <tr style=\"text-align: right;\">\n",
       "      <th></th>\n",
       "      <th>event</th>\n",
       "      <th>timestamp</th>\n",
       "      <th>lost_bytes</th>\n",
       "      <th>bytes_acknowledged</th>\n",
       "      <th>bytes_in_filght</th>\n",
       "      <th>congestion_window</th>\n",
       "    </tr>\n",
       "  </thead>\n",
       "  <tbody>\n",
       "    <tr>\n",
       "      <th>36</th>\n",
       "      <td>on_packet_lost</td>\n",
       "      <td>2925</td>\n",
       "      <td>53</td>\n",
       "      <td>0</td>\n",
       "      <td>1601</td>\n",
       "      <td>9828</td>\n",
       "    </tr>\n",
       "    <tr>\n",
       "      <th>174</th>\n",
       "      <td>on_packet_lost</td>\n",
       "      <td>6888</td>\n",
       "      <td>59</td>\n",
       "      <td>0</td>\n",
       "      <td>472</td>\n",
       "      <td>10066</td>\n",
       "    </tr>\n",
       "    <tr>\n",
       "      <th>208</th>\n",
       "      <td>on_packet_lost</td>\n",
       "      <td>7794</td>\n",
       "      <td>61</td>\n",
       "      <td>0</td>\n",
       "      <td>491</td>\n",
       "      <td>10066</td>\n",
       "    </tr>\n",
       "    <tr>\n",
       "      <th>212</th>\n",
       "      <td>on_packet_lost</td>\n",
       "      <td>7904</td>\n",
       "      <td>61</td>\n",
       "      <td>0</td>\n",
       "      <td>487</td>\n",
       "      <td>10066</td>\n",
       "    </tr>\n",
       "    <tr>\n",
       "      <th>261</th>\n",
       "      <td>on_packet_lost</td>\n",
       "      <td>9094</td>\n",
       "      <td>60</td>\n",
       "      <td>0</td>\n",
       "      <td>416</td>\n",
       "      <td>10066</td>\n",
       "    </tr>\n",
       "    <tr>\n",
       "      <th>...</th>\n",
       "      <td>...</td>\n",
       "      <td>...</td>\n",
       "      <td>...</td>\n",
       "      <td>...</td>\n",
       "      <td>...</td>\n",
       "      <td>...</td>\n",
       "    </tr>\n",
       "    <tr>\n",
       "      <th>336153</th>\n",
       "      <td>on_packet_lost</td>\n",
       "      <td>28021652</td>\n",
       "      <td>53</td>\n",
       "      <td>0</td>\n",
       "      <td>106</td>\n",
       "      <td>10066</td>\n",
       "    </tr>\n",
       "    <tr>\n",
       "      <th>336183</th>\n",
       "      <td>on_packet_lost</td>\n",
       "      <td>28024483</td>\n",
       "      <td>53</td>\n",
       "      <td>0</td>\n",
       "      <td>106</td>\n",
       "      <td>10066</td>\n",
       "    </tr>\n",
       "    <tr>\n",
       "      <th>336193</th>\n",
       "      <td>on_packet_lost</td>\n",
       "      <td>28025461</td>\n",
       "      <td>53</td>\n",
       "      <td>0</td>\n",
       "      <td>106</td>\n",
       "      <td>10066</td>\n",
       "    </tr>\n",
       "    <tr>\n",
       "      <th>336200</th>\n",
       "      <td>on_packet_lost</td>\n",
       "      <td>28026269</td>\n",
       "      <td>54</td>\n",
       "      <td>0</td>\n",
       "      <td>53</td>\n",
       "      <td>10066</td>\n",
       "    </tr>\n",
       "    <tr>\n",
       "      <th>336329</th>\n",
       "      <td>on_packet_lost</td>\n",
       "      <td>28038043</td>\n",
       "      <td>53</td>\n",
       "      <td>0</td>\n",
       "      <td>106</td>\n",
       "      <td>10066</td>\n",
       "    </tr>\n",
       "  </tbody>\n",
       "</table>\n",
       "<p>8554 rows × 6 columns</p>\n",
       "</div>"
      ],
      "text/plain": [
       "                 event  timestamp lost_bytes bytes_acknowledged  \\\n",
       "36      on_packet_lost       2925         53                  0   \n",
       "174     on_packet_lost       6888         59                  0   \n",
       "208     on_packet_lost       7794         61                  0   \n",
       "212     on_packet_lost       7904         61                  0   \n",
       "261     on_packet_lost       9094         60                  0   \n",
       "...                ...        ...        ...                ...   \n",
       "336153  on_packet_lost   28021652         53                  0   \n",
       "336183  on_packet_lost   28024483         53                  0   \n",
       "336193  on_packet_lost   28025461         53                  0   \n",
       "336200  on_packet_lost   28026269         54                  0   \n",
       "336329  on_packet_lost   28038043         53                  0   \n",
       "\n",
       "       bytes_in_filght congestion_window  \n",
       "36                1601              9828  \n",
       "174                472             10066  \n",
       "208                491             10066  \n",
       "212                487             10066  \n",
       "261                416             10066  \n",
       "...                ...               ...  \n",
       "336153             106             10066  \n",
       "336183             106             10066  \n",
       "336193             106             10066  \n",
       "336200              53             10066  \n",
       "336329             106             10066  \n",
       "\n",
       "[8554 rows x 6 columns]"
      ]
     },
     "execution_count": 44,
     "metadata": {},
     "output_type": "execute_result"
    }
   ],
   "source": [
    "df[df[\"event\"] == \"on_packet_lost\"]"
   ]
  },
  {
   "cell_type": "code",
   "execution_count": 45,
   "id": "ceb34dfd-249a-41ed-ac8d-a5af68b76603",
   "metadata": {},
   "outputs": [
    {
     "data": {
      "text/html": [
       "<div>\n",
       "<style scoped>\n",
       "    .dataframe tbody tr th:only-of-type {\n",
       "        vertical-align: middle;\n",
       "    }\n",
       "\n",
       "    .dataframe tbody tr th {\n",
       "        vertical-align: top;\n",
       "    }\n",
       "\n",
       "    .dataframe thead th {\n",
       "        text-align: right;\n",
       "    }\n",
       "</style>\n",
       "<table border=\"1\" class=\"dataframe\">\n",
       "  <thead>\n",
       "    <tr style=\"text-align: right;\">\n",
       "      <th></th>\n",
       "      <th>event</th>\n",
       "      <th>timestamp</th>\n",
       "      <th>lost_bytes</th>\n",
       "      <th>bytes_acknowledged</th>\n",
       "      <th>bytes_in_filght</th>\n",
       "      <th>congestion_window</th>\n",
       "    </tr>\n",
       "  </thead>\n",
       "  <tbody>\n",
       "    <tr>\n",
       "      <th>35</th>\n",
       "      <td>on_packet_sent</td>\n",
       "      <td>2865</td>\n",
       "      <td>0</td>\n",
       "      <td>0</td>\n",
       "      <td>1654</td>\n",
       "      <td>14040</td>\n",
       "    </tr>\n",
       "    <tr>\n",
       "      <th>36</th>\n",
       "      <td>on_packet_lost</td>\n",
       "      <td>2925</td>\n",
       "      <td>53</td>\n",
       "      <td>0</td>\n",
       "      <td>1601</td>\n",
       "      <td>9828</td>\n",
       "    </tr>\n",
       "    <tr>\n",
       "      <th>37</th>\n",
       "      <td>on_packet_sent</td>\n",
       "      <td>2946</td>\n",
       "      <td>0</td>\n",
       "      <td>0</td>\n",
       "      <td>1660</td>\n",
       "      <td>9828</td>\n",
       "    </tr>\n",
       "  </tbody>\n",
       "</table>\n",
       "</div>"
      ],
      "text/plain": [
       "             event  timestamp lost_bytes bytes_acknowledged bytes_in_filght  \\\n",
       "35  on_packet_sent       2865          0                  0            1654   \n",
       "36  on_packet_lost       2925         53                  0            1601   \n",
       "37  on_packet_sent       2946          0                  0            1660   \n",
       "\n",
       "   congestion_window  \n",
       "35             14040  \n",
       "36              9828  \n",
       "37              9828  "
      ]
     },
     "execution_count": 45,
     "metadata": {},
     "output_type": "execute_result"
    }
   ],
   "source": [
    "df[35:38]"
   ]
  },
  {
   "cell_type": "code",
   "execution_count": 49,
   "id": "408d805c-6596-4084-994a-7ef631527d74",
   "metadata": {},
   "outputs": [],
   "source": [
    "df_one_hot = pd.get_dummies(df, columns=[\"event\"], dtype=int)\n",
    "\n",
    "# Specify the column to move\n",
    "col_to_move = \"congestion_window\"\n",
    "\n",
    "# Move the column to the end\n",
    "df_one_hot = df_one_hot[\n",
    "    [col for col in df_one_hot if col != col_to_move] + [col_to_move]\n",
    "]"
   ]
  },
  {
   "cell_type": "code",
   "execution_count": 50,
   "id": "e682ab86-c57f-48f9-9df7-240f1e357ce4",
   "metadata": {},
   "outputs": [
    {
     "data": {
      "text/html": [
       "<div>\n",
       "<style scoped>\n",
       "    .dataframe tbody tr th:only-of-type {\n",
       "        vertical-align: middle;\n",
       "    }\n",
       "\n",
       "    .dataframe tbody tr th {\n",
       "        vertical-align: top;\n",
       "    }\n",
       "\n",
       "    .dataframe thead th {\n",
       "        text-align: right;\n",
       "    }\n",
       "</style>\n",
       "<table border=\"1\" class=\"dataframe\">\n",
       "  <thead>\n",
       "    <tr style=\"text-align: right;\">\n",
       "      <th></th>\n",
       "      <th>timestamp</th>\n",
       "      <th>lost_bytes</th>\n",
       "      <th>bytes_acknowledged</th>\n",
       "      <th>bytes_in_filght</th>\n",
       "      <th>event_on_ack</th>\n",
       "      <th>event_on_packet_lost</th>\n",
       "      <th>event_on_packet_sent</th>\n",
       "      <th>congestion_window</th>\n",
       "    </tr>\n",
       "  </thead>\n",
       "  <tbody>\n",
       "    <tr>\n",
       "      <th>0</th>\n",
       "      <td>200</td>\n",
       "      <td>0</td>\n",
       "      <td>0</td>\n",
       "      <td>191</td>\n",
       "      <td>0</td>\n",
       "      <td>0</td>\n",
       "      <td>1</td>\n",
       "      <td>12000</td>\n",
       "    </tr>\n",
       "    <tr>\n",
       "      <th>1</th>\n",
       "      <td>200</td>\n",
       "      <td>0</td>\n",
       "      <td>0</td>\n",
       "      <td>1200</td>\n",
       "      <td>0</td>\n",
       "      <td>0</td>\n",
       "      <td>1</td>\n",
       "      <td>12000</td>\n",
       "    </tr>\n",
       "    <tr>\n",
       "      <th>2</th>\n",
       "      <td>600</td>\n",
       "      <td>0</td>\n",
       "      <td>191</td>\n",
       "      <td>1009</td>\n",
       "      <td>1</td>\n",
       "      <td>0</td>\n",
       "      <td>0</td>\n",
       "      <td>12000</td>\n",
       "    </tr>\n",
       "    <tr>\n",
       "      <th>3</th>\n",
       "      <td>600</td>\n",
       "      <td>0</td>\n",
       "      <td>1009</td>\n",
       "      <td>0</td>\n",
       "      <td>1</td>\n",
       "      <td>0</td>\n",
       "      <td>0</td>\n",
       "      <td>12000</td>\n",
       "    </tr>\n",
       "    <tr>\n",
       "      <th>4</th>\n",
       "      <td>600</td>\n",
       "      <td>0</td>\n",
       "      <td>0</td>\n",
       "      <td>1472</td>\n",
       "      <td>0</td>\n",
       "      <td>0</td>\n",
       "      <td>1</td>\n",
       "      <td>12000</td>\n",
       "    </tr>\n",
       "    <tr>\n",
       "      <th>...</th>\n",
       "      <td>...</td>\n",
       "      <td>...</td>\n",
       "      <td>...</td>\n",
       "      <td>...</td>\n",
       "      <td>...</td>\n",
       "      <td>...</td>\n",
       "      <td>...</td>\n",
       "      <td>...</td>\n",
       "    </tr>\n",
       "    <tr>\n",
       "      <th>336353</th>\n",
       "      <td>28039944</td>\n",
       "      <td>0</td>\n",
       "      <td>53</td>\n",
       "      <td>106</td>\n",
       "      <td>1</td>\n",
       "      <td>0</td>\n",
       "      <td>0</td>\n",
       "      <td>10066</td>\n",
       "    </tr>\n",
       "    <tr>\n",
       "      <th>336354</th>\n",
       "      <td>28040147</td>\n",
       "      <td>0</td>\n",
       "      <td>53</td>\n",
       "      <td>53</td>\n",
       "      <td>1</td>\n",
       "      <td>0</td>\n",
       "      <td>0</td>\n",
       "      <td>10066</td>\n",
       "    </tr>\n",
       "    <tr>\n",
       "      <th>336355</th>\n",
       "      <td>28040295</td>\n",
       "      <td>0</td>\n",
       "      <td>0</td>\n",
       "      <td>106</td>\n",
       "      <td>0</td>\n",
       "      <td>0</td>\n",
       "      <td>1</td>\n",
       "      <td>10066</td>\n",
       "    </tr>\n",
       "    <tr>\n",
       "      <th>336356</th>\n",
       "      <td>28040354</td>\n",
       "      <td>0</td>\n",
       "      <td>53</td>\n",
       "      <td>53</td>\n",
       "      <td>1</td>\n",
       "      <td>0</td>\n",
       "      <td>0</td>\n",
       "      <td>10066</td>\n",
       "    </tr>\n",
       "    <tr>\n",
       "      <th>336357</th>\n",
       "      <td>28040695</td>\n",
       "      <td>0</td>\n",
       "      <td>53</td>\n",
       "      <td>0</td>\n",
       "      <td>1</td>\n",
       "      <td>0</td>\n",
       "      <td>0</td>\n",
       "      <td>10066</td>\n",
       "    </tr>\n",
       "  </tbody>\n",
       "</table>\n",
       "<p>336358 rows × 8 columns</p>\n",
       "</div>"
      ],
      "text/plain": [
       "        timestamp lost_bytes bytes_acknowledged bytes_in_filght  event_on_ack  \\\n",
       "0             200          0                  0             191             0   \n",
       "1             200          0                  0            1200             0   \n",
       "2             600          0                191            1009             1   \n",
       "3             600          0               1009               0             1   \n",
       "4             600          0                  0            1472             0   \n",
       "...           ...        ...                ...             ...           ...   \n",
       "336353   28039944          0                 53             106             1   \n",
       "336354   28040147          0                 53              53             1   \n",
       "336355   28040295          0                  0             106             0   \n",
       "336356   28040354          0                 53              53             1   \n",
       "336357   28040695          0                 53               0             1   \n",
       "\n",
       "        event_on_packet_lost  event_on_packet_sent congestion_window  \n",
       "0                          0                     1             12000  \n",
       "1                          0                     1             12000  \n",
       "2                          0                     0             12000  \n",
       "3                          0                     0             12000  \n",
       "4                          0                     1             12000  \n",
       "...                      ...                   ...               ...  \n",
       "336353                     0                     0             10066  \n",
       "336354                     0                     0             10066  \n",
       "336355                     0                     1             10066  \n",
       "336356                     0                     0             10066  \n",
       "336357                     0                     0             10066  \n",
       "\n",
       "[336358 rows x 8 columns]"
      ]
     },
     "execution_count": 50,
     "metadata": {},
     "output_type": "execute_result"
    }
   ],
   "source": [
    "df_one_hot"
   ]
  },
  {
   "cell_type": "code",
   "execution_count": 48,
   "id": "234e7cc4-18d2-40df-811f-d8cc25058ee4",
   "metadata": {},
   "outputs": [],
   "source": [
    "df_one_hot.to_csv(\"test.csv\")"
   ]
  },
  {
   "cell_type": "code",
   "execution_count": null,
   "id": "2326d27d-b7a4-495d-8715-8d1e110ef67a",
   "metadata": {},
   "outputs": [],
   "source": []
  },
  {
   "cell_type": "code",
   "execution_count": null,
   "id": "72dcf11b-b38d-47be-ae97-cba7b5a729e5",
   "metadata": {},
   "outputs": [],
   "source": []
  }
 ],
 "metadata": {
  "kernelspec": {
   "display_name": "Python 3 (ipykernel)",
   "language": "python",
   "name": "python3"
  },
  "language_info": {
   "codemirror_mode": {
    "name": "ipython",
    "version": 3
   },
   "file_extension": ".py",
   "mimetype": "text/x-python",
   "name": "python",
   "nbconvert_exporter": "python",
   "pygments_lexer": "ipython3",
   "version": "3.11.4"
  }
 },
 "nbformat": 4,
 "nbformat_minor": 5
}
