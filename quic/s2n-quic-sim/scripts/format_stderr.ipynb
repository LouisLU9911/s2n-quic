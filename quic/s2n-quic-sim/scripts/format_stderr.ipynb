{
 "cells": [
  {
   "cell_type": "code",
   "execution_count": 2,
   "id": "2b52abe9-e0fe-4eb7-ab2c-d3b9577b6778",
   "metadata": {},
   "outputs": [],
   "source": [
    "import pandas as pd"
   ]
  },
  {
   "cell_type": "code",
   "execution_count": 19,
   "id": "e1d30c09-c47b-4a92-90df-08c94b87ab4b",
   "metadata": {},
   "outputs": [],
   "source": [
    "reports_dir_tmpl = \"reports_seed_{}\"\n",
    "report_dir_tmpl = \"delay_{}_drop_{}\""
   ]
  },
  {
   "cell_type": "code",
   "execution_count": 20,
   "id": "45b9c8f4-e11d-4175-b188-36d2882e0908",
   "metadata": {},
   "outputs": [],
   "source": [
    "import os\n",
    "from pathlib import Path"
   ]
  },
  {
   "cell_type": "code",
   "execution_count": 21,
   "id": "9d89836a-52b2-49b8-9795-f301bca7fc01",
   "metadata": {},
   "outputs": [],
   "source": [
    "cwd = os.getcwd()"
   ]
  },
  {
   "cell_type": "code",
   "execution_count": 22,
   "id": "21fce139-508c-405c-a0ec-0680cc0adbdb",
   "metadata": {},
   "outputs": [
    {
     "data": {
      "text/plain": [
       "PosixPath('/Users/luzhaoyan/workspace/github/s2n-quic/quic/s2n-quic-sim/reports_seed_42')"
      ]
     },
     "execution_count": 22,
     "metadata": {},
     "output_type": "execute_result"
    }
   ],
   "source": [
    "# Define the path to the reports directory\n",
    "reports_dir = Path(cwd) / reports_dir_tmpl.format(42)\n",
    "reports_dir"
   ]
  },
  {
   "cell_type": "code",
   "execution_count": 23,
   "id": "f9013b16-b8ca-424a-a87f-b3357285020c",
   "metadata": {},
   "outputs": [],
   "source": [
    "# Define lists for delay and drop_rate values\n",
    "delays = [\"5ms\", \"50ms\", \"100ms\", \"200ms\", \"500ms\"]\n",
    "drop_rates = [0.01, 0.05, 0.1, 0.2, 0.3]"
   ]
  },
  {
   "cell_type": "code",
   "execution_count": 24,
   "id": "b49e536d-0004-4179-8371-ecacbc76ed79",
   "metadata": {},
   "outputs": [
    {
     "data": {
      "text/plain": [
       "PosixPath('/Users/luzhaoyan/workspace/github/s2n-quic/quic/s2n-quic-sim/reports_seed_42/delay_200ms_drop_0.05')"
      ]
     },
     "execution_count": 24,
     "metadata": {},
     "output_type": "execute_result"
    }
   ],
   "source": [
    "report_dir = reports_dir / report_dir_tmpl.format(delays[3], drop_rates[1])\n",
    "report_dir"
   ]
  },
  {
   "cell_type": "code",
   "execution_count": 31,
   "id": "47221b95-ec0f-4112-a661-5f475b56dd15",
   "metadata": {},
   "outputs": [
    {
     "name": "stdout",
     "output_type": "stream",
     "text": [
      "/Users/luzhaoyan/workspace/github/s2n-quic/quic/s2n-quic-sim/reports_seed_42/delay_200ms_drop_0.05\n",
      "/Users/luzhaoyan/workspace/github/s2n-quic/quic/s2n-quic-sim/reports_seed_42/delay_200ms_drop_0.05/stderr.log\n",
      "Filtered /Users/luzhaoyan/workspace/github/s2n-quic/quic/s2n-quic-sim/reports_seed_42/delay_200ms_drop_0.05/stderr.log and saved to /Users/luzhaoyan/workspace/github/s2n-quic/quic/s2n-quic-sim/reports_seed_42/delay_200ms_drop_0.05/filtered_stderr.log\n"
     ]
    }
   ],
   "source": [
    "if report_dir.is_dir():\n",
    "    print(report_dir)\n",
    "    stderr_path = report_dir / \"stderr.log\"\n",
    "    filtered_stderr_path = report_dir / \"filtered_stderr.log\"\n",
    "\n",
    "    if stderr_path.exists():\n",
    "        print(stderr_path)\n",
    "        # Read the stderr.log file\n",
    "        with open(stderr_path, \"r\", encoding=\"utf-8\") as file:\n",
    "            lines = file.read().split(\"\\n\")\n",
    "\n",
    "        # Keep only lines that start with \"event:\"\n",
    "        filtered_lines = [line for line in lines if line.startswith(\"event:\")]\n",
    "\n",
    "        # Write the filtered lines to a new file\n",
    "        with open(filtered_stderr_path, \"w\", encoding=\"utf-8\") as file:\n",
    "            file.writelines(filtered_lines)\n",
    "\n",
    "        print(f\"Filtered {stderr_path} and saved to {filtered_stderr_path}\")"
   ]
  },
  {
   "cell_type": "code",
   "execution_count": 32,
   "id": "03bf7154-b75a-4905-a395-86c20c3cf761",
   "metadata": {},
   "outputs": [
    {
     "data": {
      "text/plain": [
       "'event:on_packet_sent,time_sent:0:00:00.200000,under_utilized:true,bytes_in_flight:191,congestion_window:12000'"
      ]
     },
     "execution_count": 32,
     "metadata": {},
     "output_type": "execute_result"
    }
   ],
   "source": [
    "filtered_lines[0]"
   ]
  },
  {
   "cell_type": "code",
   "execution_count": 36,
   "id": "a9c99e7a-89c2-4b23-84a4-6617038450b3",
   "metadata": {},
   "outputs": [],
   "source": [
    "def get_all_lines_from_report_dir(report_dir) -> list:\n",
    "    filtered_lines = []\n",
    "    if report_dir.is_dir():\n",
    "        stderr_path = report_dir / \"stderr.log\"\n",
    "        print(f\"Reading {stderr_path}...\")\n",
    "        if stderr_path.exists():\n",
    "            # Read the stderr.log file\n",
    "            with open(stderr_path, \"r\", encoding=\"utf-8\") as file:\n",
    "                lines = file.read().split(\"\\n\")\n",
    "            # Keep only lines that start with \"event:\"\n",
    "            filtered_lines = [line for line in lines if line.startswith(\"event:\")]\n",
    "    return filtered_lines"
   ]
  },
  {
   "cell_type": "code",
   "execution_count": 57,
   "id": "f0a14004-35de-48a7-9505-ea9dc6f539b0",
   "metadata": {},
   "outputs": [
    {
     "name": "stdout",
     "output_type": "stream",
     "text": [
      "Reading /Users/luzhaoyan/workspace/github/s2n-quic/quic/s2n-quic-sim/reports_seed_42/delay_200ms_drop_0.05/stderr.log...\n"
     ]
    }
   ],
   "source": [
    "filtered_lines = get_all_lines_from_report_dir(report_dir)"
   ]
  },
  {
   "cell_type": "code",
   "execution_count": 58,
   "id": "a3cd317f-6b94-4a2d-883d-5e43fa9a3e81",
   "metadata": {},
   "outputs": [
    {
     "data": {
      "text/plain": [
       "495867"
      ]
     },
     "execution_count": 58,
     "metadata": {},
     "output_type": "execute_result"
    }
   ],
   "source": [
    "len(filtered_lines)"
   ]
  },
  {
   "cell_type": "code",
   "execution_count": 59,
   "id": "4d898ece-fd2d-4ccc-8091-a393777e40a0",
   "metadata": {},
   "outputs": [],
   "source": [
    "def filter_out(lines: list, event: str) -> list:\n",
    "    filtered_lines = [line for line in lines if event not in line]\n",
    "    return filtered_lines"
   ]
  },
  {
   "cell_type": "code",
   "execution_count": 60,
   "id": "296dc1f6-82f9-427a-a319-e4cacadd0c23",
   "metadata": {},
   "outputs": [],
   "source": [
    "filtered_lines = filter_out(filtered_lines, \"on_rtt_update\")"
   ]
  },
  {
   "cell_type": "code",
   "execution_count": 61,
   "id": "8d30c049-73aa-4124-8812-d7f713794822",
   "metadata": {},
   "outputs": [
    {
     "data": {
      "text/plain": [
       "336358"
      ]
     },
     "execution_count": 61,
     "metadata": {},
     "output_type": "execute_result"
    }
   ],
   "source": [
    "len(filtered_lines)"
   ]
  },
  {
   "cell_type": "code",
   "execution_count": 62,
   "id": "94f750f4-1a78-4846-be4d-41c584149a1a",
   "metadata": {},
   "outputs": [
    {
     "data": {
      "text/plain": [
       "'event:on_packet_sent,time_sent:0:00:00.200000,under_utilized:true,bytes_in_flight:191,congestion_window:12000'"
      ]
     },
     "execution_count": 62,
     "metadata": {},
     "output_type": "execute_result"
    }
   ],
   "source": [
    "on_packet_sent_line = \"\"\n",
    "for line in filtered_lines:\n",
    "    if \"on_packet_sent\" in line:\n",
    "        on_packet_sent_line = line\n",
    "        break\n",
    "on_packet_sent_line"
   ]
  },
  {
   "cell_type": "code",
   "execution_count": 63,
   "id": "50d3c444-dc8a-4c57-9e7f-0ce201247bf5",
   "metadata": {},
   "outputs": [
    {
     "data": {
      "text/plain": [
       "'event:on_packet_lost,timestamp:0:00:02.924665,under_utilized:true,lost_bytes:53,persistent_congestion:false,new_loss_burst:true,bytes_in_flight:1601,congestion_window:9828'"
      ]
     },
     "execution_count": 63,
     "metadata": {},
     "output_type": "execute_result"
    }
   ],
   "source": [
    "on_packet_lost_line = \"\"\n",
    "for line in filtered_lines:\n",
    "    if \"on_packet_lost\" in line:\n",
    "        on_packet_lost_line = line\n",
    "        break\n",
    "on_packet_lost_line"
   ]
  },
  {
   "cell_type": "code",
   "execution_count": 72,
   "id": "87d86d07-281a-479e-bf3b-0e80034dcee5",
   "metadata": {},
   "outputs": [
    {
     "data": {
      "text/plain": [
       "'event:on_ack,newest_acked_time_sent:0:00:00.200000,under_utilized:true,bytes_acknowledged:191,ack_receive_time:0:00:00.600000,bytes_in_flight:1009,congestion_window:12000'"
      ]
     },
     "execution_count": 72,
     "metadata": {},
     "output_type": "execute_result"
    }
   ],
   "source": [
    "on_ack_line = \"\"\n",
    "for line in filtered_lines:\n",
    "    if \"on_ack\" in line:\n",
    "        on_ack_line = line\n",
    "        break\n",
    "on_ack_line"
   ]
  },
  {
   "cell_type": "code",
   "execution_count": 80,
   "id": "405db494-000e-4b02-a216-86bdc387292f",
   "metadata": {},
   "outputs": [],
   "source": [
    "columns = [\n",
    "    \"event\",\n",
    "    \"timestamp\",\n",
    "    \"lost_bytes\",\n",
    "    \"bytes_acknowledged\",\n",
    "    \"bytes_in_filght\",\n",
    "    \"congestion_window\",\n",
    "]"
   ]
  },
  {
   "cell_type": "code",
   "execution_count": 88,
   "id": "2ad2e890-2f66-4617-bab5-f44014de919a",
   "metadata": {},
   "outputs": [],
   "source": [
    "def format_line(line):\n",
    "    if \"on_packet_sent\" in line:\n",
    "        # event:on_packet_sent,time_sent:0:00:00.200000,under_utilized:true,bytes_in_flight:191,congestion_window:12000\n",
    "        cols = line.split(\",\")\n",
    "        record = {\n",
    "            columns[0]: cols[0].split(\":\")[1],\n",
    "            columns[1]: cols[1].split(\":\", 1)[1],  # time_sent\n",
    "            columns[2]: 0,\n",
    "            columns[3]: 0,\n",
    "            columns[4]: cols[3].split(\":\")[1],\n",
    "            columns[5]: cols[4].split(\":\")[1],\n",
    "        }\n",
    "    elif \"on_packet_lost\" in line:\n",
    "        # event:on_packet_lost,timestamp:0:00:02.924665,under_utilized:true,lost_bytes:53,persistent_congestion:false,new_loss_burst:true,bytes_in_flight:1601,congestion_window:9828\n",
    "        cols = line.split(\",\")\n",
    "        record = {\n",
    "            columns[0]: cols[0].split(\":\")[1],\n",
    "            columns[1]: cols[1].split(\":\", 1)[1],  # timestamp\n",
    "            columns[2]: cols[3].split(\":\")[1],  # lost_bytes\n",
    "            columns[3]: 0,\n",
    "            columns[4]: cols[6].split(\":\")[1],\n",
    "            columns[5]: cols[7].split(\":\")[1],\n",
    "        }\n",
    "    elif \"on_ack\" in line:\n",
    "        # event:on_ack,newest_acked_time_sent:0:00:00.200000,under_utilized:true,bytes_acknowledged:191,ack_receive_time:0:00:00.600000,bytes_in_flight:1009,congestion_window:12000\n",
    "        cols = line.split(\",\")\n",
    "        record = {\n",
    "            columns[0]: cols[0].split(\":\")[1],\n",
    "            columns[1]: cols[4].split(\":\", 1)[1],  # ack_receive_time\n",
    "            columns[2]: 0,\n",
    "            columns[3]: cols[3].split(\":\")[1],  # bytes_acknowledged\n",
    "            columns[4]: cols[5].split(\":\")[1],\n",
    "            columns[5]: cols[6].split(\":\")[1],\n",
    "        }\n",
    "    else:\n",
    "        raise Exception(f\"Unsupported line: {line}\")\n",
    "    return record"
   ]
  },
  {
   "cell_type": "code",
   "execution_count": 89,
   "id": "15aafa59-cdc2-4c68-b428-cfaa669e7ba2",
   "metadata": {},
   "outputs": [],
   "source": [
    "records = list(map(format_line, filtered_lines))"
   ]
  },
  {
   "cell_type": "code",
   "execution_count": 90,
   "id": "72711cbb-f39f-47f0-a07b-a4c191c3b010",
   "metadata": {},
   "outputs": [
    {
     "data": {
      "text/plain": [
       "{'event': 'on_packet_sent',\n",
       " 'timestamp': '0:00:00.600000',\n",
       " 'lost_bytes': 0,\n",
       " 'bytes_acknowledged': 0,\n",
       " 'bytes_in_filght': '1472',\n",
       " 'congestion_window': '12000'}"
      ]
     },
     "execution_count": 90,
     "metadata": {},
     "output_type": "execute_result"
    }
   ],
   "source": [
    "records[4]"
   ]
  },
  {
   "cell_type": "code",
   "execution_count": 91,
   "id": "793161e3-36a3-495f-a7c7-af3f6cc80973",
   "metadata": {},
   "outputs": [],
   "source": [
    "df = pd.DataFrame.from_records(records)"
   ]
  },
  {
   "cell_type": "code",
   "execution_count": 92,
   "id": "9e139567-27d5-4668-9b4a-aa5bcf849490",
   "metadata": {},
   "outputs": [
    {
     "data": {
      "text/html": [
       "<div>\n",
       "<style scoped>\n",
       "    .dataframe tbody tr th:only-of-type {\n",
       "        vertical-align: middle;\n",
       "    }\n",
       "\n",
       "    .dataframe tbody tr th {\n",
       "        vertical-align: top;\n",
       "    }\n",
       "\n",
       "    .dataframe thead th {\n",
       "        text-align: right;\n",
       "    }\n",
       "</style>\n",
       "<table border=\"1\" class=\"dataframe\">\n",
       "  <thead>\n",
       "    <tr style=\"text-align: right;\">\n",
       "      <th></th>\n",
       "      <th>event</th>\n",
       "      <th>timestamp</th>\n",
       "      <th>lost_bytes</th>\n",
       "      <th>bytes_acknowledged</th>\n",
       "      <th>bytes_in_filght</th>\n",
       "      <th>congestion_window</th>\n",
       "    </tr>\n",
       "  </thead>\n",
       "  <tbody>\n",
       "    <tr>\n",
       "      <th>0</th>\n",
       "      <td>on_packet_sent</td>\n",
       "      <td>0:00:00.200000</td>\n",
       "      <td>0</td>\n",
       "      <td>0</td>\n",
       "      <td>191</td>\n",
       "      <td>12000</td>\n",
       "    </tr>\n",
       "    <tr>\n",
       "      <th>1</th>\n",
       "      <td>on_packet_sent</td>\n",
       "      <td>0:00:00.200000</td>\n",
       "      <td>0</td>\n",
       "      <td>0</td>\n",
       "      <td>1200</td>\n",
       "      <td>12000</td>\n",
       "    </tr>\n",
       "    <tr>\n",
       "      <th>2</th>\n",
       "      <td>on_ack</td>\n",
       "      <td>0:00:00.600000</td>\n",
       "      <td>0</td>\n",
       "      <td>191</td>\n",
       "      <td>1009</td>\n",
       "      <td>12000</td>\n",
       "    </tr>\n",
       "    <tr>\n",
       "      <th>3</th>\n",
       "      <td>on_ack</td>\n",
       "      <td>0:00:00.600000</td>\n",
       "      <td>0</td>\n",
       "      <td>1009</td>\n",
       "      <td>0</td>\n",
       "      <td>12000</td>\n",
       "    </tr>\n",
       "    <tr>\n",
       "      <th>4</th>\n",
       "      <td>on_packet_sent</td>\n",
       "      <td>0:00:00.600000</td>\n",
       "      <td>0</td>\n",
       "      <td>0</td>\n",
       "      <td>1472</td>\n",
       "      <td>12000</td>\n",
       "    </tr>\n",
       "    <tr>\n",
       "      <th>...</th>\n",
       "      <td>...</td>\n",
       "      <td>...</td>\n",
       "      <td>...</td>\n",
       "      <td>...</td>\n",
       "      <td>...</td>\n",
       "      <td>...</td>\n",
       "    </tr>\n",
       "    <tr>\n",
       "      <th>336353</th>\n",
       "      <td>on_ack</td>\n",
       "      <td>7:47:19.944427</td>\n",
       "      <td>0</td>\n",
       "      <td>53</td>\n",
       "      <td>106</td>\n",
       "      <td>10066</td>\n",
       "    </tr>\n",
       "    <tr>\n",
       "      <th>336354</th>\n",
       "      <td>on_ack</td>\n",
       "      <td>7:47:20.147135</td>\n",
       "      <td>0</td>\n",
       "      <td>53</td>\n",
       "      <td>53</td>\n",
       "      <td>10066</td>\n",
       "    </tr>\n",
       "    <tr>\n",
       "      <th>336355</th>\n",
       "      <td>on_packet_sent</td>\n",
       "      <td>7:47:20.295131</td>\n",
       "      <td>0</td>\n",
       "      <td>0</td>\n",
       "      <td>106</td>\n",
       "      <td>10066</td>\n",
       "    </tr>\n",
       "    <tr>\n",
       "      <th>336356</th>\n",
       "      <td>on_ack</td>\n",
       "      <td>7:47:20.354443</td>\n",
       "      <td>0</td>\n",
       "      <td>53</td>\n",
       "      <td>53</td>\n",
       "      <td>10066</td>\n",
       "    </tr>\n",
       "    <tr>\n",
       "      <th>336357</th>\n",
       "      <td>on_ack</td>\n",
       "      <td>7:47:20.695131</td>\n",
       "      <td>0</td>\n",
       "      <td>53</td>\n",
       "      <td>0</td>\n",
       "      <td>10066</td>\n",
       "    </tr>\n",
       "  </tbody>\n",
       "</table>\n",
       "<p>336358 rows × 6 columns</p>\n",
       "</div>"
      ],
      "text/plain": [
       "                 event       timestamp lost_bytes bytes_acknowledged  \\\n",
       "0       on_packet_sent  0:00:00.200000          0                  0   \n",
       "1       on_packet_sent  0:00:00.200000          0                  0   \n",
       "2               on_ack  0:00:00.600000          0                191   \n",
       "3               on_ack  0:00:00.600000          0               1009   \n",
       "4       on_packet_sent  0:00:00.600000          0                  0   \n",
       "...                ...             ...        ...                ...   \n",
       "336353          on_ack  7:47:19.944427          0                 53   \n",
       "336354          on_ack  7:47:20.147135          0                 53   \n",
       "336355  on_packet_sent  7:47:20.295131          0                  0   \n",
       "336356          on_ack  7:47:20.354443          0                 53   \n",
       "336357          on_ack  7:47:20.695131          0                 53   \n",
       "\n",
       "       bytes_in_filght congestion_window  \n",
       "0                  191             12000  \n",
       "1                 1200             12000  \n",
       "2                 1009             12000  \n",
       "3                    0             12000  \n",
       "4                 1472             12000  \n",
       "...                ...               ...  \n",
       "336353             106             10066  \n",
       "336354              53             10066  \n",
       "336355             106             10066  \n",
       "336356              53             10066  \n",
       "336357               0             10066  \n",
       "\n",
       "[336358 rows x 6 columns]"
      ]
     },
     "execution_count": 92,
     "metadata": {},
     "output_type": "execute_result"
    }
   ],
   "source": [
    "df"
   ]
  },
  {
   "cell_type": "code",
   "execution_count": 101,
   "id": "b7a58eb7-0cb6-46b2-8be9-6f6bb50a93e9",
   "metadata": {},
   "outputs": [],
   "source": [
    "df[\"timestamp\"] = pd.to_datetime(df[\"timestamp\"], format=\"mixed\").dt.time"
   ]
  },
  {
   "cell_type": "code",
   "execution_count": 102,
   "id": "4846fa57-10cf-4487-a4de-d1acce9ff8a4",
   "metadata": {},
   "outputs": [
    {
     "data": {
      "text/plain": [
       "array(['12000', '13360', '14040', '9828', '10066'], dtype=object)"
      ]
     },
     "execution_count": 102,
     "metadata": {},
     "output_type": "execute_result"
    }
   ],
   "source": [
    "df[\"congestion_window\"].unique()"
   ]
  },
  {
   "cell_type": "code",
   "execution_count": 103,
   "id": "116a7871-01be-427f-a7f5-fafcb730e9f7",
   "metadata": {},
   "outputs": [
    {
     "data": {
      "text/html": [
       "<div>\n",
       "<style scoped>\n",
       "    .dataframe tbody tr th:only-of-type {\n",
       "        vertical-align: middle;\n",
       "    }\n",
       "\n",
       "    .dataframe tbody tr th {\n",
       "        vertical-align: top;\n",
       "    }\n",
       "\n",
       "    .dataframe thead th {\n",
       "        text-align: right;\n",
       "    }\n",
       "</style>\n",
       "<table border=\"1\" class=\"dataframe\">\n",
       "  <thead>\n",
       "    <tr style=\"text-align: right;\">\n",
       "      <th></th>\n",
       "      <th>event</th>\n",
       "      <th>timestamp</th>\n",
       "      <th>lost_bytes</th>\n",
       "      <th>bytes_acknowledged</th>\n",
       "      <th>bytes_in_filght</th>\n",
       "      <th>congestion_window</th>\n",
       "    </tr>\n",
       "  </thead>\n",
       "  <tbody>\n",
       "    <tr>\n",
       "      <th>36</th>\n",
       "      <td>on_packet_lost</td>\n",
       "      <td>00:00:02.924665</td>\n",
       "      <td>53</td>\n",
       "      <td>0</td>\n",
       "      <td>1601</td>\n",
       "      <td>9828</td>\n",
       "    </tr>\n",
       "    <tr>\n",
       "      <th>174</th>\n",
       "      <td>on_packet_lost</td>\n",
       "      <td>00:00:06.887742</td>\n",
       "      <td>59</td>\n",
       "      <td>0</td>\n",
       "      <td>472</td>\n",
       "      <td>10066</td>\n",
       "    </tr>\n",
       "    <tr>\n",
       "      <th>208</th>\n",
       "      <td>on_packet_lost</td>\n",
       "      <td>00:00:07.793705</td>\n",
       "      <td>61</td>\n",
       "      <td>0</td>\n",
       "      <td>491</td>\n",
       "      <td>10066</td>\n",
       "    </tr>\n",
       "    <tr>\n",
       "      <th>212</th>\n",
       "      <td>on_packet_lost</td>\n",
       "      <td>00:00:07.903645</td>\n",
       "      <td>61</td>\n",
       "      <td>0</td>\n",
       "      <td>487</td>\n",
       "      <td>10066</td>\n",
       "    </tr>\n",
       "    <tr>\n",
       "      <th>261</th>\n",
       "      <td>on_packet_lost</td>\n",
       "      <td>00:00:09.094370</td>\n",
       "      <td>60</td>\n",
       "      <td>0</td>\n",
       "      <td>416</td>\n",
       "      <td>10066</td>\n",
       "    </tr>\n",
       "    <tr>\n",
       "      <th>...</th>\n",
       "      <td>...</td>\n",
       "      <td>...</td>\n",
       "      <td>...</td>\n",
       "      <td>...</td>\n",
       "      <td>...</td>\n",
       "      <td>...</td>\n",
       "    </tr>\n",
       "    <tr>\n",
       "      <th>336153</th>\n",
       "      <td>on_packet_lost</td>\n",
       "      <td>07:47:01.651743</td>\n",
       "      <td>53</td>\n",
       "      <td>0</td>\n",
       "      <td>106</td>\n",
       "      <td>10066</td>\n",
       "    </tr>\n",
       "    <tr>\n",
       "      <th>336183</th>\n",
       "      <td>on_packet_lost</td>\n",
       "      <td>07:47:04.482838</td>\n",
       "      <td>53</td>\n",
       "      <td>0</td>\n",
       "      <td>106</td>\n",
       "      <td>10066</td>\n",
       "    </tr>\n",
       "    <tr>\n",
       "      <th>336193</th>\n",
       "      <td>on_packet_lost</td>\n",
       "      <td>07:47:05.460822</td>\n",
       "      <td>53</td>\n",
       "      <td>0</td>\n",
       "      <td>106</td>\n",
       "      <td>10066</td>\n",
       "    </tr>\n",
       "    <tr>\n",
       "      <th>336200</th>\n",
       "      <td>on_packet_lost</td>\n",
       "      <td>07:47:06.269405</td>\n",
       "      <td>54</td>\n",
       "      <td>0</td>\n",
       "      <td>53</td>\n",
       "      <td>10066</td>\n",
       "    </tr>\n",
       "    <tr>\n",
       "      <th>336329</th>\n",
       "      <td>on_packet_lost</td>\n",
       "      <td>07:47:18.043358</td>\n",
       "      <td>53</td>\n",
       "      <td>0</td>\n",
       "      <td>106</td>\n",
       "      <td>10066</td>\n",
       "    </tr>\n",
       "  </tbody>\n",
       "</table>\n",
       "<p>8554 rows × 6 columns</p>\n",
       "</div>"
      ],
      "text/plain": [
       "                 event        timestamp lost_bytes bytes_acknowledged  \\\n",
       "36      on_packet_lost  00:00:02.924665         53                  0   \n",
       "174     on_packet_lost  00:00:06.887742         59                  0   \n",
       "208     on_packet_lost  00:00:07.793705         61                  0   \n",
       "212     on_packet_lost  00:00:07.903645         61                  0   \n",
       "261     on_packet_lost  00:00:09.094370         60                  0   \n",
       "...                ...              ...        ...                ...   \n",
       "336153  on_packet_lost  07:47:01.651743         53                  0   \n",
       "336183  on_packet_lost  07:47:04.482838         53                  0   \n",
       "336193  on_packet_lost  07:47:05.460822         53                  0   \n",
       "336200  on_packet_lost  07:47:06.269405         54                  0   \n",
       "336329  on_packet_lost  07:47:18.043358         53                  0   \n",
       "\n",
       "       bytes_in_filght congestion_window  \n",
       "36                1601              9828  \n",
       "174                472             10066  \n",
       "208                491             10066  \n",
       "212                487             10066  \n",
       "261                416             10066  \n",
       "...                ...               ...  \n",
       "336153             106             10066  \n",
       "336183             106             10066  \n",
       "336193             106             10066  \n",
       "336200              53             10066  \n",
       "336329             106             10066  \n",
       "\n",
       "[8554 rows x 6 columns]"
      ]
     },
     "execution_count": 103,
     "metadata": {},
     "output_type": "execute_result"
    }
   ],
   "source": [
    "df[df[\"event\"] == \"on_packet_lost\"]"
   ]
  },
  {
   "cell_type": "code",
   "execution_count": 104,
   "id": "ceb34dfd-249a-41ed-ac8d-a5af68b76603",
   "metadata": {},
   "outputs": [
    {
     "data": {
      "text/html": [
       "<div>\n",
       "<style scoped>\n",
       "    .dataframe tbody tr th:only-of-type {\n",
       "        vertical-align: middle;\n",
       "    }\n",
       "\n",
       "    .dataframe tbody tr th {\n",
       "        vertical-align: top;\n",
       "    }\n",
       "\n",
       "    .dataframe thead th {\n",
       "        text-align: right;\n",
       "    }\n",
       "</style>\n",
       "<table border=\"1\" class=\"dataframe\">\n",
       "  <thead>\n",
       "    <tr style=\"text-align: right;\">\n",
       "      <th></th>\n",
       "      <th>event</th>\n",
       "      <th>timestamp</th>\n",
       "      <th>lost_bytes</th>\n",
       "      <th>bytes_acknowledged</th>\n",
       "      <th>bytes_in_filght</th>\n",
       "      <th>congestion_window</th>\n",
       "    </tr>\n",
       "  </thead>\n",
       "  <tbody>\n",
       "    <tr>\n",
       "      <th>35</th>\n",
       "      <td>on_packet_sent</td>\n",
       "      <td>00:00:02.864766</td>\n",
       "      <td>0</td>\n",
       "      <td>0</td>\n",
       "      <td>1654</td>\n",
       "      <td>14040</td>\n",
       "    </tr>\n",
       "    <tr>\n",
       "      <th>36</th>\n",
       "      <td>on_packet_lost</td>\n",
       "      <td>00:00:02.924665</td>\n",
       "      <td>53</td>\n",
       "      <td>0</td>\n",
       "      <td>1601</td>\n",
       "      <td>9828</td>\n",
       "    </tr>\n",
       "    <tr>\n",
       "      <th>37</th>\n",
       "      <td>on_packet_sent</td>\n",
       "      <td>00:00:02.946085</td>\n",
       "      <td>0</td>\n",
       "      <td>0</td>\n",
       "      <td>1660</td>\n",
       "      <td>9828</td>\n",
       "    </tr>\n",
       "  </tbody>\n",
       "</table>\n",
       "</div>"
      ],
      "text/plain": [
       "             event        timestamp lost_bytes bytes_acknowledged  \\\n",
       "35  on_packet_sent  00:00:02.864766          0                  0   \n",
       "36  on_packet_lost  00:00:02.924665         53                  0   \n",
       "37  on_packet_sent  00:00:02.946085          0                  0   \n",
       "\n",
       "   bytes_in_filght congestion_window  \n",
       "35            1654             14040  \n",
       "36            1601              9828  \n",
       "37            1660              9828  "
      ]
     },
     "execution_count": 104,
     "metadata": {},
     "output_type": "execute_result"
    }
   ],
   "source": [
    "df[35:38]"
   ]
  },
  {
   "cell_type": "code",
   "execution_count": 111,
   "id": "408d805c-6596-4084-994a-7ef631527d74",
   "metadata": {},
   "outputs": [],
   "source": [
    "df_one_hot = pd.get_dummies(df, columns=[\"event\"], dtype=int)"
   ]
  },
  {
   "cell_type": "code",
   "execution_count": 112,
   "id": "e682ab86-c57f-48f9-9df7-240f1e357ce4",
   "metadata": {},
   "outputs": [
    {
     "data": {
      "text/html": [
       "<div>\n",
       "<style scoped>\n",
       "    .dataframe tbody tr th:only-of-type {\n",
       "        vertical-align: middle;\n",
       "    }\n",
       "\n",
       "    .dataframe tbody tr th {\n",
       "        vertical-align: top;\n",
       "    }\n",
       "\n",
       "    .dataframe thead th {\n",
       "        text-align: right;\n",
       "    }\n",
       "</style>\n",
       "<table border=\"1\" class=\"dataframe\">\n",
       "  <thead>\n",
       "    <tr style=\"text-align: right;\">\n",
       "      <th></th>\n",
       "      <th>timestamp</th>\n",
       "      <th>lost_bytes</th>\n",
       "      <th>bytes_acknowledged</th>\n",
       "      <th>bytes_in_filght</th>\n",
       "      <th>congestion_window</th>\n",
       "      <th>event_on_ack</th>\n",
       "      <th>event_on_packet_lost</th>\n",
       "      <th>event_on_packet_sent</th>\n",
       "    </tr>\n",
       "  </thead>\n",
       "  <tbody>\n",
       "    <tr>\n",
       "      <th>0</th>\n",
       "      <td>00:00:00.200000</td>\n",
       "      <td>0</td>\n",
       "      <td>0</td>\n",
       "      <td>191</td>\n",
       "      <td>12000</td>\n",
       "      <td>0</td>\n",
       "      <td>0</td>\n",
       "      <td>1</td>\n",
       "    </tr>\n",
       "    <tr>\n",
       "      <th>1</th>\n",
       "      <td>00:00:00.200000</td>\n",
       "      <td>0</td>\n",
       "      <td>0</td>\n",
       "      <td>1200</td>\n",
       "      <td>12000</td>\n",
       "      <td>0</td>\n",
       "      <td>0</td>\n",
       "      <td>1</td>\n",
       "    </tr>\n",
       "    <tr>\n",
       "      <th>2</th>\n",
       "      <td>00:00:00.600000</td>\n",
       "      <td>0</td>\n",
       "      <td>191</td>\n",
       "      <td>1009</td>\n",
       "      <td>12000</td>\n",
       "      <td>1</td>\n",
       "      <td>0</td>\n",
       "      <td>0</td>\n",
       "    </tr>\n",
       "    <tr>\n",
       "      <th>3</th>\n",
       "      <td>00:00:00.600000</td>\n",
       "      <td>0</td>\n",
       "      <td>1009</td>\n",
       "      <td>0</td>\n",
       "      <td>12000</td>\n",
       "      <td>1</td>\n",
       "      <td>0</td>\n",
       "      <td>0</td>\n",
       "    </tr>\n",
       "    <tr>\n",
       "      <th>4</th>\n",
       "      <td>00:00:00.600000</td>\n",
       "      <td>0</td>\n",
       "      <td>0</td>\n",
       "      <td>1472</td>\n",
       "      <td>12000</td>\n",
       "      <td>0</td>\n",
       "      <td>0</td>\n",
       "      <td>1</td>\n",
       "    </tr>\n",
       "    <tr>\n",
       "      <th>...</th>\n",
       "      <td>...</td>\n",
       "      <td>...</td>\n",
       "      <td>...</td>\n",
       "      <td>...</td>\n",
       "      <td>...</td>\n",
       "      <td>...</td>\n",
       "      <td>...</td>\n",
       "      <td>...</td>\n",
       "    </tr>\n",
       "    <tr>\n",
       "      <th>336353</th>\n",
       "      <td>07:47:19.944427</td>\n",
       "      <td>0</td>\n",
       "      <td>53</td>\n",
       "      <td>106</td>\n",
       "      <td>10066</td>\n",
       "      <td>1</td>\n",
       "      <td>0</td>\n",
       "      <td>0</td>\n",
       "    </tr>\n",
       "    <tr>\n",
       "      <th>336354</th>\n",
       "      <td>07:47:20.147135</td>\n",
       "      <td>0</td>\n",
       "      <td>53</td>\n",
       "      <td>53</td>\n",
       "      <td>10066</td>\n",
       "      <td>1</td>\n",
       "      <td>0</td>\n",
       "      <td>0</td>\n",
       "    </tr>\n",
       "    <tr>\n",
       "      <th>336355</th>\n",
       "      <td>07:47:20.295131</td>\n",
       "      <td>0</td>\n",
       "      <td>0</td>\n",
       "      <td>106</td>\n",
       "      <td>10066</td>\n",
       "      <td>0</td>\n",
       "      <td>0</td>\n",
       "      <td>1</td>\n",
       "    </tr>\n",
       "    <tr>\n",
       "      <th>336356</th>\n",
       "      <td>07:47:20.354443</td>\n",
       "      <td>0</td>\n",
       "      <td>53</td>\n",
       "      <td>53</td>\n",
       "      <td>10066</td>\n",
       "      <td>1</td>\n",
       "      <td>0</td>\n",
       "      <td>0</td>\n",
       "    </tr>\n",
       "    <tr>\n",
       "      <th>336357</th>\n",
       "      <td>07:47:20.695131</td>\n",
       "      <td>0</td>\n",
       "      <td>53</td>\n",
       "      <td>0</td>\n",
       "      <td>10066</td>\n",
       "      <td>1</td>\n",
       "      <td>0</td>\n",
       "      <td>0</td>\n",
       "    </tr>\n",
       "  </tbody>\n",
       "</table>\n",
       "<p>336358 rows × 8 columns</p>\n",
       "</div>"
      ],
      "text/plain": [
       "              timestamp lost_bytes bytes_acknowledged bytes_in_filght  \\\n",
       "0       00:00:00.200000          0                  0             191   \n",
       "1       00:00:00.200000          0                  0            1200   \n",
       "2       00:00:00.600000          0                191            1009   \n",
       "3       00:00:00.600000          0               1009               0   \n",
       "4       00:00:00.600000          0                  0            1472   \n",
       "...                 ...        ...                ...             ...   \n",
       "336353  07:47:19.944427          0                 53             106   \n",
       "336354  07:47:20.147135          0                 53              53   \n",
       "336355  07:47:20.295131          0                  0             106   \n",
       "336356  07:47:20.354443          0                 53              53   \n",
       "336357  07:47:20.695131          0                 53               0   \n",
       "\n",
       "       congestion_window  event_on_ack  event_on_packet_lost  \\\n",
       "0                  12000             0                     0   \n",
       "1                  12000             0                     0   \n",
       "2                  12000             1                     0   \n",
       "3                  12000             1                     0   \n",
       "4                  12000             0                     0   \n",
       "...                  ...           ...                   ...   \n",
       "336353             10066             1                     0   \n",
       "336354             10066             1                     0   \n",
       "336355             10066             0                     0   \n",
       "336356             10066             1                     0   \n",
       "336357             10066             1                     0   \n",
       "\n",
       "        event_on_packet_sent  \n",
       "0                          1  \n",
       "1                          1  \n",
       "2                          0  \n",
       "3                          0  \n",
       "4                          1  \n",
       "...                      ...  \n",
       "336353                     0  \n",
       "336354                     0  \n",
       "336355                     1  \n",
       "336356                     0  \n",
       "336357                     0  \n",
       "\n",
       "[336358 rows x 8 columns]"
      ]
     },
     "execution_count": 112,
     "metadata": {},
     "output_type": "execute_result"
    }
   ],
   "source": [
    "df_one_hot"
   ]
  },
  {
   "cell_type": "code",
   "execution_count": 113,
   "id": "234e7cc4-18d2-40df-811f-d8cc25058ee4",
   "metadata": {},
   "outputs": [],
   "source": [
    "df_one_hot.to_csv(\"test.csv\")"
   ]
  },
  {
   "cell_type": "code",
   "execution_count": null,
   "id": "2326d27d-b7a4-495d-8715-8d1e110ef67a",
   "metadata": {},
   "outputs": [],
   "source": []
  }
 ],
 "metadata": {
  "kernelspec": {
   "display_name": "Python 3 (ipykernel)",
   "language": "python",
   "name": "python3"
  },
  "language_info": {
   "codemirror_mode": {
    "name": "ipython",
    "version": 3
   },
   "file_extension": ".py",
   "mimetype": "text/x-python",
   "name": "python",
   "nbconvert_exporter": "python",
   "pygments_lexer": "ipython3",
   "version": "3.11.4"
  }
 },
 "nbformat": 4,
 "nbformat_minor": 5
}
